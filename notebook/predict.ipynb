{
 "cells": [
  {
   "cell_type": "markdown",
   "metadata": {},
   "source": [
    "# Local predictions"
   ]
  },
  {
   "cell_type": "code",
   "execution_count": 1,
   "metadata": {},
   "outputs": [],
   "source": [
    "import pickle\n",
    "import pandas as pd"
   ]
  },
  {
   "cell_type": "markdown",
   "metadata": {},
   "source": [
    "### Load model"
   ]
  },
  {
   "cell_type": "code",
   "execution_count": 2,
   "metadata": {},
   "outputs": [],
   "source": [
    "model = pickle.load(open('model.pkl', 'rb'))\n",
    "label_encoders = pickle.load(open('label_encoders.pkl', 'rb'))"
   ]
  },
  {
   "cell_type": "markdown",
   "metadata": {},
   "source": [
    "### Load data"
   ]
  },
  {
   "cell_type": "code",
   "execution_count": 3,
   "metadata": {},
   "outputs": [],
   "source": [
    "df = pd.read_csv(\"../data/mushrooms.csv\")"
   ]
  },
  {
   "cell_type": "markdown",
   "metadata": {},
   "source": [
    "encoding"
   ]
  },
  {
   "cell_type": "code",
   "execution_count": 4,
   "metadata": {},
   "outputs": [],
   "source": [
    "df_encoded = df.copy()\n",
    "for col in df_encoded.columns:\n",
    "    le = label_encoders[col]\n",
    "    df_encoded[col] = le.transform(df_encoded[col])"
   ]
  },
  {
   "cell_type": "markdown",
   "metadata": {},
   "source": [
    "### Predict"
   ]
  },
  {
   "cell_type": "code",
   "execution_count": 5,
   "metadata": {},
   "outputs": [],
   "source": [
    "n = 0\n",
    "selected_features = [\"odor\", \"bruises\", \"cap-shape\", \"gill-color\", \"ring-type\"]\n",
    "X = df_encoded[selected_features]\n",
    "y_encoded = df_encoded[\"class\"]"
   ]
  },
  {
   "cell_type": "code",
   "execution_count": 6,
   "metadata": {},
   "outputs": [
    {
     "name": "stdout",
     "output_type": "stream",
     "text": [
      "Predicted: p\n",
      "Actual: p\n"
     ]
    }
   ],
   "source": [
    "pred_encoded = model.predict(X[n:n+1])[0]\n",
    "pred_label = label_encoders[\"class\"].inverse_transform([pred_encoded])[0]\n",
    "true_label = df.iloc[n][\"class\"]\n",
    "\n",
    "print(\"Predicted:\", pred_label)\n",
    "print(\"Actual:\", true_label)"
   ]
  },
  {
   "cell_type": "markdown",
   "metadata": {},
   "source": [
    "confronto più righe"
   ]
  },
  {
   "cell_type": "code",
   "execution_count": 7,
   "metadata": {},
   "outputs": [
    {
     "name": "stdout",
     "output_type": "stream",
     "text": [
      "[0] Predicted: p – Actual: p\n",
      "[1] Predicted: e – Actual: e\n",
      "[2] Predicted: e – Actual: e\n",
      "[3] Predicted: p – Actual: p\n",
      "[4] Predicted: e – Actual: e\n"
     ]
    }
   ],
   "source": [
    "for i in range(5):\n",
    "    pred = model.predict(X[i:i+1])[0]\n",
    "    pred_label = label_encoders[\"class\"].inverse_transform([pred])[0]\n",
    "    true_label = df.iloc[i][\"class\"]\n",
    "    print(f\"[{i}] Predicted: {pred_label} – Actual: {true_label}\")"
   ]
  }
 ],
 "metadata": {
  "kernelspec": {
   "display_name": ".venv",
   "language": "python",
   "name": "python3"
  },
  "language_info": {
   "codemirror_mode": {
    "name": "ipython",
    "version": 3
   },
   "file_extension": ".py",
   "mimetype": "text/x-python",
   "name": "python",
   "nbconvert_exporter": "python",
   "pygments_lexer": "ipython3",
   "version": "3.10.4"
  }
 },
 "nbformat": 4,
 "nbformat_minor": 2
}
